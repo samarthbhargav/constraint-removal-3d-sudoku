{
 "cells": [
  {
   "cell_type": "code",
   "execution_count": 19,
   "metadata": {},
   "outputs": [],
   "source": [
    "import requests\n",
    "import os\n",
    "import bs4\n",
    "import numpy as np"
   ]
  },
  {
   "cell_type": "code",
   "execution_count": 83,
   "metadata": {},
   "outputs": [],
   "source": [
    "START, END = 1, 5354\n",
    "DOWNLOAD_DIR = \"./scraped/\"\n",
    "PUZZLE_DIR = \"./puzzles\"\n",
    "URL = \"http://www.menneske.no/sudoku3d/eng/showpuzzle.html?number={}\"\n",
    "for index in range(START, END + 1):\n",
    "    path = os.path.join(DOWNLOAD_DIR, \"{}.html\".format(index))\n",
    "    if os.path.exists(path):\n",
    "        continue\n",
    "    print(\"Downloading {} to {}\".format(index, path))\n",
    "    response = requests.get(URL.format(index))\n",
    "    if response.status_code != 200:\n",
    "        print(\"Couldn't get {} :(\".format(index))\n",
    "        continue\n",
    "    \n",
    "    with  open(path, \"w\") as writer:\n",
    "        writer.write(response.text)\n",
    "    print(\"Saved file {}\".format(path))"
   ]
  },
  {
   "cell_type": "code",
   "execution_count": 89,
   "metadata": {},
   "outputs": [
    {
     "name": "stderr",
     "output_type": "stream",
     "text": [
      "/home/samarth/anaconda3/envs/krproject1/lib/python3.6/site-packages/bs4/__init__.py:181: UserWarning: No parser was explicitly specified, so I'm using the best available HTML parser for this system (\"html5lib\"). This usually isn't a problem, but if you run this code on another system, or in a different virtual environment, it may use a different parser and behave differently.\n",
      "\n",
      "The code that caused this warning is on line 193 of the file /home/samarth/anaconda3/envs/krproject1/lib/python3.6/runpy.py. To get rid of this warning, change code that looks like this:\n",
      "\n",
      " BeautifulSoup(YOUR_MARKUP})\n",
      "\n",
      "to this:\n",
      "\n",
      " BeautifulSoup(YOUR_MARKUP, \"html5lib\")\n",
      "\n",
      "  markup_type=markup_type))\n"
     ]
    }
   ],
   "source": [
    "def parse_html(puzzle_no):\n",
    "    numbers = list(\"123456789\")\n",
    "    with open(os.path.join(DOWNLOAD_DIR, \"{}.html\".format(puzzle_no))) as reader:\n",
    "        html = reader.read()\n",
    "    \n",
    "    soup = bs4.BeautifulSoup(html)\n",
    "    grids = soup.findAll(\"div\", { \"class\" : \"grid\" })\n",
    "    assert len(grids) == 9\n",
    "\n",
    "    puzzle = np.zeros((9, 9, 9))\n",
    "    data = []\n",
    "    for grid in grids:\n",
    "        children = [_ for _ in grid.children]\n",
    "        assert len(children) == 3\n",
    "        grid_number = int(children[-2].split(\":\")[-1].strip())\n",
    "        # the grids are one-indexed, while we are using 0-indexed data\n",
    "        grid_number -= 1\n",
    "\n",
    "        sub_grids = children[0].findAll(\"tr\")\n",
    "        assert len(sub_grids) == 9\n",
    "        for grid_index, sub in enumerate(sub_grids):\n",
    "            tds = sub.findAll(\"td\")\n",
    "            assert len(tds) == 9\n",
    "            for index, element in enumerate(tds):\n",
    "                number = next(element.children).strip()\n",
    "                if number in numbers:\n",
    "                    puzzle[grid_number, grid_index, index] = int(number)\n",
    "                    data.append((grid_number, grid_index, index, int(number)))\n",
    "    with open(os.path.join(PUZZLE_DIR, \"{}.txt\".format(puzzle_no)), \"w\") as writer:\n",
    "        for d in data:\n",
    "            writer.write(\"{}\\n\".format(\",\".join(str(_) for _ in d)))\n",
    "\n",
    "for index in range(START, END + 1):\n",
    "    parse_html(index)"
   ]
  }
 ],
 "metadata": {
  "kernelspec": {
   "display_name": "Python 3",
   "language": "python",
   "name": "python3"
  },
  "language_info": {
   "codemirror_mode": {
    "name": "ipython",
    "version": 3
   },
   "file_extension": ".py",
   "mimetype": "text/x-python",
   "name": "python",
   "nbconvert_exporter": "python",
   "pygments_lexer": "ipython3",
   "version": "3.6.2"
  }
 },
 "nbformat": 4,
 "nbformat_minor": 2
}
